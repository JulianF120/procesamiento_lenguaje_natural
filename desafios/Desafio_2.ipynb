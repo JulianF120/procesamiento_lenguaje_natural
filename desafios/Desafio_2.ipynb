{
 "cells": [
  {
   "cell_type": "markdown",
   "id": "2db61bb0",
   "metadata": {},
   "source": [
    "### Consigna del desafío 2"
   ]
  },
  {
   "cell_type": "markdown",
   "id": "b85657dc",
   "metadata": {},
   "source": [
    "1. Crear sus propios vectores con Gensim basado en lo visto en clase con otro dataset.\n",
    "2. Probar términos de interés y explicar similitudes en el espacio de embeddings (sacar conclusiones entre palabras similitudes y diferencias).\n",
    "3. Graficarlos.\n",
    "4. Obtener conclusiones."
   ]
  },
  {
   "cell_type": "markdown",
   "id": "ee512a03",
   "metadata": {},
   "source": [
    "#### Imports"
   ]
  },
  {
   "cell_type": "code",
   "execution_count": 1,
   "id": "466fe9b6",
   "metadata": {},
   "outputs": [
    {
     "name": "stderr",
     "output_type": "stream",
     "text": [
      "[nltk_data] Downloading package punkt to\n",
      "[nltk_data]     C:\\Users\\julia\\AppData\\Roaming\\nltk_data...\n",
      "[nltk_data]   Package punkt is already up-to-date!\n",
      "[nltk_data] Downloading package punkt_tab to\n",
      "[nltk_data]     C:\\Users\\julia\\AppData\\Roaming\\nltk_data...\n",
      "[nltk_data]   Package punkt_tab is already up-to-date!\n"
     ]
    }
   ],
   "source": [
    "import pandas as pd\n",
    "import matplotlib.pyplot as plt\n",
    "import seaborn as sns\n",
    "\n",
    "import multiprocessing\n",
    "from gensim.models import Word2Vec\n",
    "import os\n",
    "import platform\n",
    "import nltk\n",
    "nltk.download('punkt') \n",
    "nltk.download('punkt_tab')\n",
    "from nltk.tokenize import word_tokenize\n",
    "from gensim.models.callbacks import CallbackAny2Vec\n",
    "\n",
    "from sklearn.decomposition import IncrementalPCA    \n",
    "from sklearn.manifold import TSNE                   \n",
    "import numpy as np     \n",
    "\n",
    "import plotly.graph_objects as go\n",
    "import plotly.express as px"
   ]
  },
  {
   "cell_type": "code",
   "execution_count": 2,
   "id": "69ca7cb8",
   "metadata": {},
   "outputs": [
    {
     "name": "stdout",
     "output_type": "stream",
     "text": [
      "El dataset ya se encuentra descargado\n"
     ]
    }
   ],
   "source": [
    "if os.access('./songs_dataset', os.F_OK) is False:\n",
    "    if os.access('songs_dataset.zip', os.F_OK) is False:\n",
    "        if platform.system() == 'Windows':\n",
    "            !curl https://raw.githubusercontent.com/FIUBA-Posgrado-Inteligencia-Artificial/procesamiento_lenguaje_natural/main/datasets/songs_dataset.zip -o songs_dataset.zip\n",
    "        else:\n",
    "            !wget songs_dataset.zip https://github.com/FIUBA-Posgrado-Inteligencia-Artificial/procesamiento_lenguaje_natural/raw/main/datasets/songs_dataset.zip\n",
    "    !unzip -q songs_dataset.zip   \n",
    "else:\n",
    "    print(\"El dataset ya se encuentra descargado\")"
   ]
  },
  {
   "cell_type": "markdown",
   "id": "41905807",
   "metadata": {},
   "source": [
    "#### Parte 1"
   ]
  },
  {
   "cell_type": "code",
   "execution_count": 3,
   "id": "d9085920",
   "metadata": {},
   "outputs": [
    {
     "name": "stderr",
     "output_type": "stream",
     "text": [
      "C:\\Users\\julia\\AppData\\Local\\Temp\\ipykernel_32032\\3874159358.py:2: ParserWarning: Falling back to the 'python' engine because the 'c' engine does not support regex separators (separators > 1 char and different from '\\s+' are interpreted as regex); you can avoid this warning by specifying engine='python'.\n",
      "  df = pd.read_csv('songs_dataset/michael-jackson.txt', sep='/n', header=None)\n"
     ]
    }
   ],
   "source": [
    "#Uso dataset de cansiones de michael jackson\n",
    "df = pd.read_csv('songs_dataset/michael-jackson.txt', sep='/n', header=None)"
   ]
  },
  {
   "cell_type": "code",
   "execution_count": 4,
   "id": "a5f1db57",
   "metadata": {},
   "outputs": [],
   "source": [
    "sentence_tokens = []\n",
    "for _, row in df[:None].iterrows():\n",
    "    sentence_tokens.append(word_tokenize(row[0]))\n"
   ]
  },
  {
   "cell_type": "code",
   "execution_count": 5,
   "id": "7f81f54c",
   "metadata": {},
   "outputs": [],
   "source": [
    "class callback(CallbackAny2Vec):\n",
    "    \"\"\"\n",
    "    Callback to print loss after each epoch\n",
    "    \"\"\"\n",
    "    def __init__(self):\n",
    "        self.epoch = 0\n",
    "\n",
    "    def on_epoch_end(self, model):\n",
    "        loss = model.get_latest_training_loss()\n",
    "        if self.epoch == 0:\n",
    "            print('Loss after epoch {}: {}'.format(self.epoch, loss))\n",
    "        else:\n",
    "            print('Loss after epoch {}: {}'.format(self.epoch, loss- self.loss_previous_step))\n",
    "        self.epoch += 1\n",
    "        self.loss_previous_step = loss"
   ]
  },
  {
   "cell_type": "code",
   "execution_count": 6,
   "id": "2b4bb460",
   "metadata": {},
   "outputs": [],
   "source": [
    "w2v_model = Word2Vec(min_count=5,    # frecuencia mínima de palabra para incluirla en el vocabulario\n",
    "                     window=2,       # cant de palabras antes y desp de la predicha\n",
    "                     vector_size=300,       # dimensionalidad de los vectores \n",
    "                     negative=20,    # cantidad de negative samples... 0 es no se usa\n",
    "                     sg=1) "
   ]
  },
  {
   "cell_type": "code",
   "execution_count": 7,
   "id": "43bdd352",
   "metadata": {},
   "outputs": [],
   "source": [
    "w2v_model.build_vocab(sentence_tokens)"
   ]
  },
  {
   "cell_type": "code",
   "execution_count": 8,
   "id": "c7212e10",
   "metadata": {},
   "outputs": [
    {
     "name": "stdout",
     "output_type": "stream",
     "text": [
      "Cantidad de docs en el corpus: 9484\n"
     ]
    }
   ],
   "source": [
    "# Cantidad de filas/docs encontradas en el corpus\n",
    "print(\"Cantidad de docs en el corpus:\", w2v_model.corpus_count)"
   ]
  },
  {
   "cell_type": "code",
   "execution_count": 9,
   "id": "9134097c",
   "metadata": {},
   "outputs": [
    {
     "name": "stdout",
     "output_type": "stream",
     "text": [
      "Cantidad de words distintas en el corpus: 1192\n"
     ]
    }
   ],
   "source": [
    "# Cantidad de words encontradas en el corpus\n",
    "print(\"Cantidad de words distintas en el corpus:\", len(w2v_model.wv.index_to_key))"
   ]
  },
  {
   "cell_type": "markdown",
   "id": "d1fbc73c",
   "metadata": {},
   "source": [
    "---\n",
    "### Parte 2\n",
    "---"
   ]
  },
  {
   "cell_type": "code",
   "execution_count": 10,
   "id": "b012865b",
   "metadata": {},
   "outputs": [
    {
     "name": "stdout",
     "output_type": "stream",
     "text": [
      "Loss after epoch 0: 139328.140625\n",
      "Loss after epoch 1: 106083.609375\n",
      "Loss after epoch 2: 100470.5625\n",
      "Loss after epoch 3: 96994.625\n",
      "Loss after epoch 4: 86478.1875\n",
      "Loss after epoch 5: 79767.5625\n",
      "Loss after epoch 6: 76308.9375\n",
      "Loss after epoch 7: 79980.3125\n",
      "Loss after epoch 8: 69943.875\n",
      "Loss after epoch 9: 67997.0\n",
      "Loss after epoch 10: 64988.9375\n",
      "Loss after epoch 11: 64643.0625\n",
      "Loss after epoch 12: 64783.5625\n",
      "Loss after epoch 13: 52734.375\n",
      "Loss after epoch 14: 59545.75\n",
      "Loss after epoch 15: 58708.75\n",
      "Loss after epoch 16: 57941.75\n",
      "Loss after epoch 17: 51108.0\n",
      "Loss after epoch 18: 56889.75\n",
      "Loss after epoch 19: 64026.875\n",
      "Loss after epoch 20: 63299.875\n",
      "Loss after epoch 21: 63689.5\n",
      "Loss after epoch 22: 56169.25\n",
      "Loss after epoch 23: 55668.75\n",
      "Loss after epoch 24: 61938.5\n",
      "Loss after epoch 25: 48464.75\n",
      "Loss after epoch 26: 55150.875\n",
      "Loss after epoch 27: 54567.125\n",
      "Loss after epoch 28: 57019.625\n",
      "Loss after epoch 29: 61259.25\n",
      "Loss after epoch 30: 53116.375\n",
      "Loss after epoch 31: 51988.5\n",
      "Loss after epoch 32: 52092.5\n",
      "Loss after epoch 33: 45626.5\n",
      "Loss after epoch 34: 51726.0\n",
      "Loss after epoch 35: 51439.25\n",
      "Loss after epoch 36: 55392.5\n",
      "Loss after epoch 37: 51190.75\n",
      "Loss after epoch 38: 53526.75\n",
      "Loss after epoch 39: 50996.5\n",
      "Loss after epoch 40: 56693.75\n",
      "Loss after epoch 41: 53103.5\n",
      "Loss after epoch 42: 50579.0\n",
      "Loss after epoch 43: 51519.5\n",
      "Loss after epoch 44: 50733.0\n",
      "Loss after epoch 45: 56657.0\n",
      "Loss after epoch 46: 50815.75\n",
      "Loss after epoch 47: 50033.25\n",
      "Loss after epoch 48: 50627.25\n",
      "Loss after epoch 49: 50328.25\n"
     ]
    },
    {
     "data": {
      "text/plain": [
       "(1946229, 2968650)"
      ]
     },
     "execution_count": 10,
     "metadata": {},
     "output_type": "execute_result"
    }
   ],
   "source": [
    "w2v_model.train(sentence_tokens,\n",
    "                 total_examples=w2v_model.corpus_count,\n",
    "                 epochs=50,\n",
    "                 compute_loss = True,\n",
    "                 callbacks=[callback()]\n",
    "                 )"
   ]
  },
  {
   "cell_type": "code",
   "execution_count": 11,
   "id": "754ca752",
   "metadata": {},
   "outputs": [
    {
     "data": {
      "text/plain": [
       "[('shameone', 0.7617164254188538),\n",
       " ('-', 0.6556829810142517),\n",
       " ('Dang', 0.6489359140396118),\n",
       " ('Raven', 0.6390835046768188),\n",
       " ('Bad', 0.6101269721984863),\n",
       " ('dah', 0.5751240849494934),\n",
       " ('Johnny', 0.5739648938179016),\n",
       " ('Gone', 0.570134699344635),\n",
       " ('Monster', 0.5692838430404663),\n",
       " ('Chorus', 0.5643842816352844)]"
      ]
     },
     "execution_count": 11,
     "metadata": {},
     "output_type": "execute_result"
    }
   ],
   "source": [
    "# Palabras que MÁS se relacionan con bad:\n",
    "w2v_model.wv.most_similar(positive=[\"bad\"], topn=10)"
   ]
  },
  {
   "cell_type": "markdown",
   "id": "c1e7f866",
   "metadata": {},
   "source": [
    "La mayor relación encontrada con la palabra **`bad`** es **`shameone`**. Esto es esperable, ya que dicha palabra se utiliza repetidamente en el estribillo de la canción, por lo cual es natural que ambos términos estén fuertemente vinculados. También aparece **`Bad`** (con mayúscula inicial), que es la misma palabra.\n",
    "\n",
    "El resto de los términos similares podrían ser palabras que aparecen con frecuencia en proximidad a **`bad`**, tanto en la letra de esta canción como en la de otras.\n"
   ]
  },
  {
   "cell_type": "code",
   "execution_count": 12,
   "id": "322661c3",
   "metadata": {},
   "outputs": [
    {
     "data": {
      "text/plain": [
       "[('door', -0.007609180640429258),\n",
       " ('From', -0.027203068137168884),\n",
       " ('must', -0.04648132249712944),\n",
       " ('tomorrow', -0.050977353006601334),\n",
       " ('Has', -0.051028620451688766),\n",
       " ('Will', -0.051464058458805084),\n",
       " ('Somebody', -0.05608798563480377),\n",
       " ('We', -0.07125600427389145),\n",
       " ('Wo', -0.0845637321472168),\n",
       " ('Into', -0.08582037687301636)]"
      ]
     },
     "execution_count": 12,
     "metadata": {},
     "output_type": "execute_result"
    }
   ],
   "source": [
    "w2v_model.wv.most_similar(negative=[\"bad\"], topn=10)\n"
   ]
  },
  {
   "cell_type": "markdown",
   "id": "01c15885",
   "metadata": {},
   "source": [
    "Para las palabras que no se relacionan directamente con **`bad`**, se observa que parecen estar más asociadas a canciones con una connotación melancólica o de amor, por lo que no se encuentra un vínculo evidente con el término original."
   ]
  },
  {
   "cell_type": "code",
   "execution_count": 13,
   "id": "88f0a45a",
   "metadata": {},
   "outputs": [
    {
     "data": {
      "text/plain": [
       "[('shoulder', 0.49106964468955994),\n",
       " ('factual', 0.4813081622123718),\n",
       " ('hide', 0.47567102313041687),\n",
       " ('letting', 0.4368520975112915),\n",
       " ('cry', 0.43472033739089966),\n",
       " ('euphoria', 0.4346248507499695),\n",
       " ('Shameone', 0.4311755895614624),\n",
       " ('looked', 0.4306465685367584),\n",
       " ('matter', 0.42956113815307617),\n",
       " ('alright', 0.4273685812950134)]"
      ]
     },
     "execution_count": 13,
     "metadata": {},
     "output_type": "execute_result"
    }
   ],
   "source": [
    "# Palabras que MÁS se relacionan con feel:\n",
    "w2v_model.wv.most_similar(positive=[\"feel\"], topn=10)"
   ]
  },
  {
   "cell_type": "markdown",
   "id": "c2c98ea6",
   "metadata": {},
   "source": [
    "Para el caso de la palabra **`feel`**, se encuentran términos con una muy buena relación, ya que todos ellos apuntan a cosas o sensaciones que alguien puede sentir. "
   ]
  },
  {
   "cell_type": "code",
   "execution_count": 14,
   "id": "95d40589",
   "metadata": {},
   "outputs": [
    {
     "data": {
      "text/plain": [
       "[('This', -0.01723630726337433),\n",
       " ('wo', -0.028111133724451065),\n",
       " ('Her', -0.0412001758813858),\n",
       " ('With', -0.04291465878486633),\n",
       " ('Of', -0.04603051394224167),\n",
       " ('into', -0.06254991143941879),\n",
       " ('Times', -0.06683771312236786),\n",
       " ('last', -0.06865434348583221),\n",
       " ('Your', -0.06878922134637833),\n",
       " ('Who', -0.07030123472213745)]"
      ]
     },
     "execution_count": 14,
     "metadata": {},
     "output_type": "execute_result"
    }
   ],
   "source": [
    "w2v_model.wv.most_similar(negative=[\"feel\"], topn=10)\n"
   ]
  },
  {
   "cell_type": "markdown",
   "id": "e8f0c585",
   "metadata": {},
   "source": [
    "En este caso, los términos **no relacionados** con **`feel`** también parecen ser coherentes, ya que no son palabras que se utilizarían en el mismo contexto que la palabra base."
   ]
  },
  {
   "cell_type": "markdown",
   "id": "4bf05b72",
   "metadata": {},
   "source": [
    "En resumen, para ambos casos se encontraron palabras que guardan relación con el término base utilizado, así como también se identificaron palabras sin ningún tipo de conexión aparente.\n"
   ]
  },
  {
   "cell_type": "markdown",
   "id": "676a0f0d",
   "metadata": {},
   "source": [
    "---\n",
    "### Parte 3\n",
    "---"
   ]
  },
  {
   "cell_type": "code",
   "execution_count": 15,
   "id": "17b3a95c",
   "metadata": {},
   "outputs": [],
   "source": [
    "def reduce_dimensions(model, num_dimensions = 2 ):\n",
    "     \n",
    "    vectors = np.asarray(model.wv.vectors)\n",
    "    labels = np.asarray(model.wv.index_to_key)  \n",
    "\n",
    "    tsne = TSNE(n_components=num_dimensions, random_state=0)\n",
    "    vectors = tsne.fit_transform(vectors)\n",
    "\n",
    "    return vectors, labels"
   ]
  },
  {
   "cell_type": "code",
   "execution_count": 17,
   "id": "84a5b78c",
   "metadata": {},
   "outputs": [
    {
     "data": {
      "application/vnd.plotly.v1+json": {
       "config": {
        "plotlyServerURL": "https://plot.ly"
       },
       "data": [
        {
         "hovertemplate": "x=%{x}<br>y=%{y}<br>text=%{text}<extra></extra>",
         "legendgroup": "",
         "marker": {
          "color": "#636efa",
          "symbol": "circle"
         },
         "mode": "markers+text",
         "name": "",
         "orientation": "v",
         "showlegend": false,
         "text": [
          "I",
          ",",
          "you",
          "You",
          "the",
          "n't",
          ")",
          "(",
          "me",
          "'s",
          "it",
          "to",
          "The",
          "And",
          "'",
          "my",
          "It",
          "a",
          "]",
          "[",
          "To",
          "Me",
          "do",
          "'re",
          "in",
          "and",
          "Do",
          "your",
          "love",
          "na",
          "of",
          "on",
          ".",
          "'m",
          "She",
          "be",
          "!",
          "that",
          "is",
          "for",
          "’",
          "A",
          "Just",
          "know",
          "That",
          "'ll",
          "We",
          "?",
          "In",
          "My",
          "are",
          "So",
          "Love",
          "bad",
          "all",
          "we",
          "can",
          "about",
          "baby",
          "just",
          "really",
          "Your",
          "got",
          "Is",
          "like",
          "with",
          "But",
          "Got",
          "get",
          "there",
          "no",
          "What",
          "If",
          "Baby",
          "...",
          "No",
          "Yeah",
          "For",
          "He",
          "'ve",
          "world",
          "Girl",
          "All",
          "On",
          "around",
          "make",
          "There",
          "wan",
          "what",
          "one",
          "Of",
          "Get",
          "not",
          "go",
          "girl",
          "see",
          "so",
          "Be",
          "her",
          "Why",
          "They",
          "When",
          "let",
          "she",
          "Too",
          "Chorus",
          "Oh",
          "Ai",
          "take",
          "have",
          "This",
          "was",
          "life",
          "now",
          "ca",
          "stop",
          "Keep",
          "Give",
          "down",
          "yeah",
          "Make",
          "feel",
          "he",
          "time",
          "away",
          "Let",
          "way",
          "say",
          "Michael",
          "right",
          "s",
          "how",
          "Ca",
          "hold",
          "will",
          "With",
          "come",
          "up",
          "'Cause",
          "this",
          "never",
          "us",
          "Gon",
          "when",
          "-",
          "heart",
          "dah",
          "they",
          "hand",
          "Then",
          "am",
          "oh",
          "t",
          "Time",
          "Come",
          "tell",
          "Stop",
          "Now",
          "Who",
          "had",
          "day",
          "give",
          "Night",
          ":",
          "Take",
          "back",
          "How",
          "too",
          "out",
          "need",
          "from",
          "Can",
          "Will",
          "want",
          "Na",
          "does",
          "Like",
          "who",
          "here",
          "things",
          "'d",
          "Verse",
          "Know",
          "Wan",
          "alone",
          "Hee",
          "Her",
          "keep",
          "enough",
          "Mine",
          "gon",
          "did",
          "Are",
          "man",
          "if",
          "Way",
          "Hoo",
          "Want",
          "Right",
          "Alone"
         ],
         "type": "scatter",
         "x": {
          "bdata": "n5cAv01kq0CpDp3AToLOQPQ+ncHNL/M/FMihQQ4DnkG3Vw3B2I27wAK9wMGdD8DAZBglQbpfP0D3Va/AZVO+waasyEBlNBPBz2BnQcVjaUHQ0VNBZaGBQYTg6r8TveHAcA2FwdjIrsHzqeI/mmkywYEgucGeS33AR92lwcCrgcCNIJpBhSxnPjTbI0AteoXBt86/QagTHMGWjtLBwOvFwa6Il0DhCDhB4+YZQK37BMFn1spAjAmFvuEt20Clr2xAzyqdQXi1hkHvU13BfIjOP96m/UBeWPtAdmRtwUMVeMHbmy7AooakwVNVS8Bo5YrA8N7eQD0BP0GqEhbBEmaGQW17TsHYyczBcXIywMtqR0GJ/Ay/6ZEFwc9DgMHEJqZAbZ51QB8xIkHNhoU/prNlQTxVxkFhHbtBqaHNwJt2FUFrLL0/TFYOQRP44kCrGWhBZw0dQCAdE0AtsnJBGRiFwOpbyMDomlrBYVKMQep7jEHAR8fBPlmjQMmkvMCX4FHBhjKKwToabkHSg47Bp58pQY86H8Cu+8dAd7NVQH1kScFD4NVBi/I6QazAjkFOTr5BrsxCwLsy3UDn+hJBQ5aBwed4bsHBeV7Am9WPQMHlez8V8iRB5J3eQMZVgsFWM09AIxY3QUbNJ8E6N/vAgLfOwP2cB8FSWQRBApZzwfQiX8G9YjdBXjIcwfyEqcFkfRrBfCqOQK6/5b6Lj1rB1vBbQQyJHT9fzUXBOX9uP576p8ED2rhAIs0Hwb5oOUERbjvBFRwEQTD6JMHirA4/WPKWwJlCVL/ekQ3A1+E3wcNUgUEszapAQBVyQWucJkF77RzBh7WRQR0YoD8UqM5B9MufwTRyMMFr7YbAtzGeQeNRWkFNOq+9hGmMviyZRkC461HARqWQwYY+R8F4IHfBbsIgQWjiHkGWOhvAJCiVQaqzHEAJa3xA2X1Vwfe+BsCjln/BwGfewN+WTUGrA/tAoz5FQcpyfMHn+LVBDYdyQTZNIcEQzZTBiJ1sQeFqGsEd9Zq/1Km9QTT7Z8FBKeLAmktKQaWquUEJTr9AxrhoQUXdcUE=",
          "dtype": "f4"
         },
         "xaxis": "x",
         "y": {
          "bdata": "xi9HQdXUw8DhVJk/k/wqQVeuFcCMa5RAnWAmwZLpJMHSG0xBj4hiQbsqsMAMtknASPdYQRKBgEFk9kNBP+gTPwSDXkF3bQRAbDY/wa2iOsFk6clAq+mjQPohiT/1TzlBwSFCwSBdP0CKhTlBtNZXwWAjDEHZhHdB8FedwUBJdcETBNe/kd5hQX2tFkEGMJBA9lgyweN75kCcNoJAwodKwZ35msGG0Y1BDbjDQFzjFkHeKBxBZrUWQZcCiUGeWknAWEpQQYa5a0Fd3TlBp1eNQX7/dUFVAA7BS2fMwKaQhEBRjjdAH8S3wIef8sBIjzhAT98RwcT/skHx8QDBI3OkQcHUjUDGcbs/T4U8QZaF10CBW+K+gSGkP65fGL+y1sdAAJymQFfbdkBIe6XAiCziv+XLhUEIwRdBfCD4wNZsnL9eekXB3PxOQXR7M0BslA5BhvCBwYD2K0DdS0w/TpV3QRvY2r/BplHAO3B3QXnZH0G5m9xAbXBOwVbb10ArnEC/FuJrQRy+g0HAX3nAYesfQe0GsUBMx5lBy36EvtFVbMGhZyJB19ArwcOlUcH6IANBbJECQSb3MsAeGJ1BRZxDwByrtsC7VbnADW4aPxgdyL5kh59Al852Qd22KcFy3AfBUo2ZQdLyV0E5vvHAgscAQdZmQMAZk9dA1alCP2slFUGX+UHB4wXKwMjEhsFEgcjBmpRvQfjD4UBNGDM+XAJMQd1Ah0AiB9e/vOB/QXI0qEA2w+XAmQksQa53DkEnfoLA4rMUwShWjMHe0p3AuITrQKLrYsE5+llBy6oAQQjpdcHmjIzBnzNmQd0avkGIOLQ/pq5NQDmem0EmOCBAxfxpQHtigMGiRoFAe+LJQFf9QcFZM6lB3UJLwFPZd0AJzn3AGNI7wcf4T0F+BAvB7piQQZrhsEEt2vU/STh6wfTuQj93ekFBco70QM/2E8Hx4A5BF/GGQZVbP8GKjVZBb3YgQU5hj8F3YDrBKTFKQaIgmUFOLphAMHeNQXpjrkDCf+k/0IO5QOmVbcAIa5tAepqDQb5jLMF/Tm9BynM1QfWKakA=",
          "dtype": "f4"
         },
         "yaxis": "y"
        }
       ],
       "layout": {
        "legend": {
         "tracegroupgap": 0
        },
        "margin": {
         "t": 60
        },
        "template": {
         "data": {
          "bar": [
           {
            "error_x": {
             "color": "#2a3f5f"
            },
            "error_y": {
             "color": "#2a3f5f"
            },
            "marker": {
             "line": {
              "color": "#E5ECF6",
              "width": 0.5
             },
             "pattern": {
              "fillmode": "overlay",
              "size": 10,
              "solidity": 0.2
             }
            },
            "type": "bar"
           }
          ],
          "barpolar": [
           {
            "marker": {
             "line": {
              "color": "#E5ECF6",
              "width": 0.5
             },
             "pattern": {
              "fillmode": "overlay",
              "size": 10,
              "solidity": 0.2
             }
            },
            "type": "barpolar"
           }
          ],
          "carpet": [
           {
            "aaxis": {
             "endlinecolor": "#2a3f5f",
             "gridcolor": "white",
             "linecolor": "white",
             "minorgridcolor": "white",
             "startlinecolor": "#2a3f5f"
            },
            "baxis": {
             "endlinecolor": "#2a3f5f",
             "gridcolor": "white",
             "linecolor": "white",
             "minorgridcolor": "white",
             "startlinecolor": "#2a3f5f"
            },
            "type": "carpet"
           }
          ],
          "choropleth": [
           {
            "colorbar": {
             "outlinewidth": 0,
             "ticks": ""
            },
            "type": "choropleth"
           }
          ],
          "contour": [
           {
            "colorbar": {
             "outlinewidth": 0,
             "ticks": ""
            },
            "colorscale": [
             [
              0,
              "#0d0887"
             ],
             [
              0.1111111111111111,
              "#46039f"
             ],
             [
              0.2222222222222222,
              "#7201a8"
             ],
             [
              0.3333333333333333,
              "#9c179e"
             ],
             [
              0.4444444444444444,
              "#bd3786"
             ],
             [
              0.5555555555555556,
              "#d8576b"
             ],
             [
              0.6666666666666666,
              "#ed7953"
             ],
             [
              0.7777777777777778,
              "#fb9f3a"
             ],
             [
              0.8888888888888888,
              "#fdca26"
             ],
             [
              1,
              "#f0f921"
             ]
            ],
            "type": "contour"
           }
          ],
          "contourcarpet": [
           {
            "colorbar": {
             "outlinewidth": 0,
             "ticks": ""
            },
            "type": "contourcarpet"
           }
          ],
          "heatmap": [
           {
            "colorbar": {
             "outlinewidth": 0,
             "ticks": ""
            },
            "colorscale": [
             [
              0,
              "#0d0887"
             ],
             [
              0.1111111111111111,
              "#46039f"
             ],
             [
              0.2222222222222222,
              "#7201a8"
             ],
             [
              0.3333333333333333,
              "#9c179e"
             ],
             [
              0.4444444444444444,
              "#bd3786"
             ],
             [
              0.5555555555555556,
              "#d8576b"
             ],
             [
              0.6666666666666666,
              "#ed7953"
             ],
             [
              0.7777777777777778,
              "#fb9f3a"
             ],
             [
              0.8888888888888888,
              "#fdca26"
             ],
             [
              1,
              "#f0f921"
             ]
            ],
            "type": "heatmap"
           }
          ],
          "histogram": [
           {
            "marker": {
             "pattern": {
              "fillmode": "overlay",
              "size": 10,
              "solidity": 0.2
             }
            },
            "type": "histogram"
           }
          ],
          "histogram2d": [
           {
            "colorbar": {
             "outlinewidth": 0,
             "ticks": ""
            },
            "colorscale": [
             [
              0,
              "#0d0887"
             ],
             [
              0.1111111111111111,
              "#46039f"
             ],
             [
              0.2222222222222222,
              "#7201a8"
             ],
             [
              0.3333333333333333,
              "#9c179e"
             ],
             [
              0.4444444444444444,
              "#bd3786"
             ],
             [
              0.5555555555555556,
              "#d8576b"
             ],
             [
              0.6666666666666666,
              "#ed7953"
             ],
             [
              0.7777777777777778,
              "#fb9f3a"
             ],
             [
              0.8888888888888888,
              "#fdca26"
             ],
             [
              1,
              "#f0f921"
             ]
            ],
            "type": "histogram2d"
           }
          ],
          "histogram2dcontour": [
           {
            "colorbar": {
             "outlinewidth": 0,
             "ticks": ""
            },
            "colorscale": [
             [
              0,
              "#0d0887"
             ],
             [
              0.1111111111111111,
              "#46039f"
             ],
             [
              0.2222222222222222,
              "#7201a8"
             ],
             [
              0.3333333333333333,
              "#9c179e"
             ],
             [
              0.4444444444444444,
              "#bd3786"
             ],
             [
              0.5555555555555556,
              "#d8576b"
             ],
             [
              0.6666666666666666,
              "#ed7953"
             ],
             [
              0.7777777777777778,
              "#fb9f3a"
             ],
             [
              0.8888888888888888,
              "#fdca26"
             ],
             [
              1,
              "#f0f921"
             ]
            ],
            "type": "histogram2dcontour"
           }
          ],
          "mesh3d": [
           {
            "colorbar": {
             "outlinewidth": 0,
             "ticks": ""
            },
            "type": "mesh3d"
           }
          ],
          "parcoords": [
           {
            "line": {
             "colorbar": {
              "outlinewidth": 0,
              "ticks": ""
             }
            },
            "type": "parcoords"
           }
          ],
          "pie": [
           {
            "automargin": true,
            "type": "pie"
           }
          ],
          "scatter": [
           {
            "fillpattern": {
             "fillmode": "overlay",
             "size": 10,
             "solidity": 0.2
            },
            "type": "scatter"
           }
          ],
          "scatter3d": [
           {
            "line": {
             "colorbar": {
              "outlinewidth": 0,
              "ticks": ""
             }
            },
            "marker": {
             "colorbar": {
              "outlinewidth": 0,
              "ticks": ""
             }
            },
            "type": "scatter3d"
           }
          ],
          "scattercarpet": [
           {
            "marker": {
             "colorbar": {
              "outlinewidth": 0,
              "ticks": ""
             }
            },
            "type": "scattercarpet"
           }
          ],
          "scattergeo": [
           {
            "marker": {
             "colorbar": {
              "outlinewidth": 0,
              "ticks": ""
             }
            },
            "type": "scattergeo"
           }
          ],
          "scattergl": [
           {
            "marker": {
             "colorbar": {
              "outlinewidth": 0,
              "ticks": ""
             }
            },
            "type": "scattergl"
           }
          ],
          "scattermap": [
           {
            "marker": {
             "colorbar": {
              "outlinewidth": 0,
              "ticks": ""
             }
            },
            "type": "scattermap"
           }
          ],
          "scattermapbox": [
           {
            "marker": {
             "colorbar": {
              "outlinewidth": 0,
              "ticks": ""
             }
            },
            "type": "scattermapbox"
           }
          ],
          "scatterpolar": [
           {
            "marker": {
             "colorbar": {
              "outlinewidth": 0,
              "ticks": ""
             }
            },
            "type": "scatterpolar"
           }
          ],
          "scatterpolargl": [
           {
            "marker": {
             "colorbar": {
              "outlinewidth": 0,
              "ticks": ""
             }
            },
            "type": "scatterpolargl"
           }
          ],
          "scatterternary": [
           {
            "marker": {
             "colorbar": {
              "outlinewidth": 0,
              "ticks": ""
             }
            },
            "type": "scatterternary"
           }
          ],
          "surface": [
           {
            "colorbar": {
             "outlinewidth": 0,
             "ticks": ""
            },
            "colorscale": [
             [
              0,
              "#0d0887"
             ],
             [
              0.1111111111111111,
              "#46039f"
             ],
             [
              0.2222222222222222,
              "#7201a8"
             ],
             [
              0.3333333333333333,
              "#9c179e"
             ],
             [
              0.4444444444444444,
              "#bd3786"
             ],
             [
              0.5555555555555556,
              "#d8576b"
             ],
             [
              0.6666666666666666,
              "#ed7953"
             ],
             [
              0.7777777777777778,
              "#fb9f3a"
             ],
             [
              0.8888888888888888,
              "#fdca26"
             ],
             [
              1,
              "#f0f921"
             ]
            ],
            "type": "surface"
           }
          ],
          "table": [
           {
            "cells": {
             "fill": {
              "color": "#EBF0F8"
             },
             "line": {
              "color": "white"
             }
            },
            "header": {
             "fill": {
              "color": "#C8D4E3"
             },
             "line": {
              "color": "white"
             }
            },
            "type": "table"
           }
          ]
         },
         "layout": {
          "annotationdefaults": {
           "arrowcolor": "#2a3f5f",
           "arrowhead": 0,
           "arrowwidth": 1
          },
          "autotypenumbers": "strict",
          "coloraxis": {
           "colorbar": {
            "outlinewidth": 0,
            "ticks": ""
           }
          },
          "colorscale": {
           "diverging": [
            [
             0,
             "#8e0152"
            ],
            [
             0.1,
             "#c51b7d"
            ],
            [
             0.2,
             "#de77ae"
            ],
            [
             0.3,
             "#f1b6da"
            ],
            [
             0.4,
             "#fde0ef"
            ],
            [
             0.5,
             "#f7f7f7"
            ],
            [
             0.6,
             "#e6f5d0"
            ],
            [
             0.7,
             "#b8e186"
            ],
            [
             0.8,
             "#7fbc41"
            ],
            [
             0.9,
             "#4d9221"
            ],
            [
             1,
             "#276419"
            ]
           ],
           "sequential": [
            [
             0,
             "#0d0887"
            ],
            [
             0.1111111111111111,
             "#46039f"
            ],
            [
             0.2222222222222222,
             "#7201a8"
            ],
            [
             0.3333333333333333,
             "#9c179e"
            ],
            [
             0.4444444444444444,
             "#bd3786"
            ],
            [
             0.5555555555555556,
             "#d8576b"
            ],
            [
             0.6666666666666666,
             "#ed7953"
            ],
            [
             0.7777777777777778,
             "#fb9f3a"
            ],
            [
             0.8888888888888888,
             "#fdca26"
            ],
            [
             1,
             "#f0f921"
            ]
           ],
           "sequentialminus": [
            [
             0,
             "#0d0887"
            ],
            [
             0.1111111111111111,
             "#46039f"
            ],
            [
             0.2222222222222222,
             "#7201a8"
            ],
            [
             0.3333333333333333,
             "#9c179e"
            ],
            [
             0.4444444444444444,
             "#bd3786"
            ],
            [
             0.5555555555555556,
             "#d8576b"
            ],
            [
             0.6666666666666666,
             "#ed7953"
            ],
            [
             0.7777777777777778,
             "#fb9f3a"
            ],
            [
             0.8888888888888888,
             "#fdca26"
            ],
            [
             1,
             "#f0f921"
            ]
           ]
          },
          "colorway": [
           "#636efa",
           "#EF553B",
           "#00cc96",
           "#ab63fa",
           "#FFA15A",
           "#19d3f3",
           "#FF6692",
           "#B6E880",
           "#FF97FF",
           "#FECB52"
          ],
          "font": {
           "color": "#2a3f5f"
          },
          "geo": {
           "bgcolor": "white",
           "lakecolor": "white",
           "landcolor": "#E5ECF6",
           "showlakes": true,
           "showland": true,
           "subunitcolor": "white"
          },
          "hoverlabel": {
           "align": "left"
          },
          "hovermode": "closest",
          "mapbox": {
           "style": "light"
          },
          "paper_bgcolor": "white",
          "plot_bgcolor": "#E5ECF6",
          "polar": {
           "angularaxis": {
            "gridcolor": "white",
            "linecolor": "white",
            "ticks": ""
           },
           "bgcolor": "#E5ECF6",
           "radialaxis": {
            "gridcolor": "white",
            "linecolor": "white",
            "ticks": ""
           }
          },
          "scene": {
           "xaxis": {
            "backgroundcolor": "#E5ECF6",
            "gridcolor": "white",
            "gridwidth": 2,
            "linecolor": "white",
            "showbackground": true,
            "ticks": "",
            "zerolinecolor": "white"
           },
           "yaxis": {
            "backgroundcolor": "#E5ECF6",
            "gridcolor": "white",
            "gridwidth": 2,
            "linecolor": "white",
            "showbackground": true,
            "ticks": "",
            "zerolinecolor": "white"
           },
           "zaxis": {
            "backgroundcolor": "#E5ECF6",
            "gridcolor": "white",
            "gridwidth": 2,
            "linecolor": "white",
            "showbackground": true,
            "ticks": "",
            "zerolinecolor": "white"
           }
          },
          "shapedefaults": {
           "line": {
            "color": "#2a3f5f"
           }
          },
          "ternary": {
           "aaxis": {
            "gridcolor": "white",
            "linecolor": "white",
            "ticks": ""
           },
           "baxis": {
            "gridcolor": "white",
            "linecolor": "white",
            "ticks": ""
           },
           "bgcolor": "#E5ECF6",
           "caxis": {
            "gridcolor": "white",
            "linecolor": "white",
            "ticks": ""
           }
          },
          "title": {
           "x": 0.05
          },
          "xaxis": {
           "automargin": true,
           "gridcolor": "white",
           "linecolor": "white",
           "ticks": "",
           "title": {
            "standoff": 15
           },
           "zerolinecolor": "white",
           "zerolinewidth": 2
          },
          "yaxis": {
           "automargin": true,
           "gridcolor": "white",
           "linecolor": "white",
           "ticks": "",
           "title": {
            "standoff": 15
           },
           "zerolinecolor": "white",
           "zerolinewidth": 2
          }
         }
        },
        "xaxis": {
         "anchor": "y",
         "domain": [
          0,
          1
         ],
         "title": {
          "text": "x"
         }
        },
        "yaxis": {
         "anchor": "x",
         "domain": [
          0,
          1
         ],
         "title": {
          "text": "y"
         }
        }
       }
      }
     },
     "metadata": {},
     "output_type": "display_data"
    }
   ],
   "source": [
    "vecs, labels = reduce_dimensions(w2v_model)\n",
    "\n",
    "MAX_WORDS=200\n",
    "fig = px.scatter(x=vecs[:MAX_WORDS,0], y=vecs[:MAX_WORDS,1], text=labels[:MAX_WORDS])\n",
    "fig.show() # esto para plotly en colab"
   ]
  },
  {
   "cell_type": "markdown",
   "id": "844f9164",
   "metadata": {},
   "source": [
    "---\n",
    "### Parte 4\n",
    "---"
   ]
  },
  {
   "cell_type": "markdown",
   "id": "a9ade8dd",
   "metadata": {},
   "source": [
    "En general, se ha logrado observar el buen funcionamiento de Skip-Gram para encontrar palabras que guardan relación unas con otras; es decir, palabras que fácilmente son subsecuentes o que aparecen en contextos similares dentro de un texto, como en este caso, una canción.\n"
   ]
  }
 ],
 "metadata": {
  "kernelspec": {
   "display_name": "PLN",
   "language": "python",
   "name": "python3"
  },
  "language_info": {
   "codemirror_mode": {
    "name": "ipython",
    "version": 3
   },
   "file_extension": ".py",
   "mimetype": "text/x-python",
   "name": "python",
   "nbconvert_exporter": "python",
   "pygments_lexer": "ipython3",
   "version": "3.12.11"
  }
 },
 "nbformat": 4,
 "nbformat_minor": 5
}
